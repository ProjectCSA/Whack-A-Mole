{
 "cells": [
  {
   "cell_type": "markdown",
   "metadata": {},
   "source": [
    "---\n",
    "comments: true\n",
    "layout: post\n",
    "title: Individual Project Progress\n",
    "description: Outlines and plans what each partner does in the project and how we combine them.\n",
    "---\n",
    "\n",
    "> # Raymond\n",
    "* Create base CSS, start button and name input\n",
    "* Call and implement an API\n",
    "* Create timer and scoring\n",
    "    * Increase difficulty\n",
    "\n",
    "> # Anthony\n",
    "* Create/find the animations or graphics for the holes and moles\n",
    "* Create location\n",
    "* Improve CSS, bug fixing the base game\n",
    "\n",
    "> # Pair Plan\n",
    "* Combine individual work\n",
    "* Complete the functionality of the game (moles showing, moles leaving, score increasing, etc.)"
   ]
  }
 ],
 "metadata": {
  "language_info": {
   "name": "python"
  },
  "orig_nbformat": 4
 },
 "nbformat": 4,
 "nbformat_minor": 2
}

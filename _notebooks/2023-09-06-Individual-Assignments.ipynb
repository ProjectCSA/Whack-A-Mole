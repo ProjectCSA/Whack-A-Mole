{
 "cells": [
  {
   "cell_type": "markdown",
   "metadata": {},
   "source": [
    "---\n",
    "comments: true\n",
    "layout: post\n",
    "title: Individual Project Progress\n",
    "description: Outlines and plans what each partner does in the project and how we combine them.\n",
    "---\n",
    "\n",
    "> # Raymond\n",
    "* Create base CSS, start button and name input\n",
    "* Call and implement an API\n",
    "* Create timer and scoring\n",
    "    * Increase difficulty\n",
    "\n",
    "> # Anthony\n",
    "* Create/find the animations or graphics for the holes and moles\n",
    "* Create location\n",
    "* Improve CSS, bug fixing the base game"
   ]
  }
 ],
 "metadata": {
  "language_info": {
   "name": "python"
  },
  "orig_nbformat": 4
 },
 "nbformat": 4,
 "nbformat_minor": 2
}
